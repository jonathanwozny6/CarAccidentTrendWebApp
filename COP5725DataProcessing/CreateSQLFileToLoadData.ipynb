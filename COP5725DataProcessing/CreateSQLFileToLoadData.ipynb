{
 "cells": [
  {
   "cell_type": "markdown",
   "id": "b482e4b0",
   "metadata": {},
   "source": [
    "# Accidents"
   ]
  },
  {
   "cell_type": "code",
   "execution_count": 202,
   "id": "17a1b182",
   "metadata": {},
   "outputs": [],
   "source": [
    "Acc = open(\"Accident.csv\", \"r\")\n",
    "loadAccFile = open(\"load-accidents.sql\", \"w\")\n",
    "\n",
    "loadAccFile.write(\"ALTER SESSION SET NLS_DATE_FORMAT = 'YYYY/MM/DD HH24:MI:SS';\\n\")\n",
    "\n",
    "for line in Acc.readlines()[1:]:\n",
    "    values = line.split(',')\n",
    "    myStr = \"INSERT INTO ACCIDENT values(\"\n",
    "    myStr = myStr + values[0] + \",\" + values[1] + \",\" + values[2] + \",\" + values[3] + \",\" + values[4] + \",\"\n",
    "    myStr = myStr + \"TO_DATE('\" + values[5] + \"', 'YYYY/MM/DD HH24:MI:SS'),\" + values[9] + \",\" + values[11].replace('\\n','') + \",\"\n",
    "    myStr = myStr +  \"'\" + values[6] + \"',\" + values[7] + \",'\" + values[8] + \"','\" + values[10] + \"'\"\n",
    "    myStr = myStr + (\");\\n\")\n",
    "    loadAccFile.write(myStr)\n",
    "\n",
    "loadAccFile.close()\n",
    "Acc.close() "
   ]
  },
  {
   "cell_type": "markdown",
   "id": "8538f868",
   "metadata": {},
   "source": [
    "# Environments"
   ]
  },
  {
   "cell_type": "code",
   "execution_count": 126,
   "id": "dba624da",
   "metadata": {},
   "outputs": [],
   "source": [
    "Env = open(\"Environment.csv\", \"r\")\n",
    "loadEnvFile = open(\"load-environments.sql\", \"w\")\n",
    "\n",
    "for line in Env.readlines()[1:]:\n",
    "    values = line.split(',')\n",
    "    myStr = \"INSERT INTO ENVIRONMENT values(\"\n",
    "    myStr = myStr + values[0] + \",\" + values[1] + \",\" + values[2] + \",\" + values[3] + \",\" + values[4] + \",\"\n",
    "    myStr = myStr + \"'\" + values[5] + \"',\" + values[6] + \",\" + values[7] + \",\" + values[8] + \",\"\n",
    "    myStr = myStr + \"'\" + values[9].replace(\"\\n\", \"\") + \"'\"\n",
    "    myStr = myStr + (\");\\n\")\n",
    "    loadEnvFile.write(myStr)\n",
    "\n",
    "loadEnvFile.close()\n",
    "Env.close() "
   ]
  },
  {
   "cell_type": "markdown",
   "id": "279d31c1",
   "metadata": {},
   "source": [
    "# Roads"
   ]
  },
  {
   "cell_type": "code",
   "execution_count": 206,
   "id": "7d63400b",
   "metadata": {},
   "outputs": [],
   "source": [
    "Road = open(\"Road.csv\", \"r\")\n",
    "loadRoadFile = open(\"load-roads.sql\", \"w\")\n",
    "\n",
    "for line in Road.readlines()[1:]:\n",
    "    values = line.split(',')\n",
    "    myStr = \"INSERT INTO ROAD values(\"\n",
    "    myStr = myStr + \"'\" + values[0] + \"',\" + values[1] + \",\" + values[2] + \",\"\n",
    "    myStr = myStr + values[3].replace(\"\\n\", \"\")\n",
    "    myStr = myStr + (\");\\n\")\n",
    "    loadRoadFile.write(myStr)\n",
    "\n",
    "loadRoadFile.close()\n",
    "Road.close()"
   ]
  },
  {
   "cell_type": "markdown",
   "id": "781c93b7",
   "metadata": {},
   "source": [
    "# Locations"
   ]
  },
  {
   "cell_type": "code",
   "execution_count": null,
   "id": "03c3c8b8",
   "metadata": {},
   "outputs": [],
   "source": [
    "### This is since i mixed up the order of city and state when loading database"
   ]
  },
  {
   "cell_type": "code",
   "execution_count": null,
   "id": "3eeef770",
   "metadata": {},
   "outputs": [],
   "source": [
    "Loc = open(\"Location.csv\", \"r\")\n",
    "loadLocFile = open(\"update-locations.sql\", \"w\")\n",
    "\n",
    "for line in Loc.readlines()[1:]:\n",
    "    values = line.split(',')\n",
    "    myStr = \"UPDATE LOCATION SET State = \"\n",
    "    myStr = myStr + \"'\" + values[2].replace(\"\\n\", \"\") + \"', City = '\" + values[1] + \"'\" \n",
    "    myStr = myStr + \" where ID_ST = \" + values[0] + \";\\n\"\n",
    "    loadLocFile.write(myStr)\n",
    "\n",
    "loadLocFile.close()\n",
    "Loc.close()"
   ]
  },
  {
   "cell_type": "code",
   "execution_count": 187,
   "id": "b840baf6",
   "metadata": {},
   "outputs": [],
   "source": [
    "Loc = open(\"Location.csv\", \"r\")\n",
    "loadLocFile = open(\"load-locations.sql\", \"w\")\n",
    "\n",
    "for line in Loc.readlines()[1:]:\n",
    "    values = line.split(',')\n",
    "    myStr = \"INSERT INTO LOCATION values(\"\n",
    "    myStr = myStr + values[0] + \",'\" + values[2].replace(\"\\n\", \"\") + \"','\" + values[1] + \"'\" \n",
    "    myStr = myStr + (\");\\n\")\n",
    "    loadLocFile.write(myStr)\n",
    "\n",
    "loadLocFile.close()\n",
    "Loc.close()"
   ]
  },
  {
   "cell_type": "markdown",
   "id": "47e28db2",
   "metadata": {},
   "source": [
    "# Airports"
   ]
  },
  {
   "cell_type": "code",
   "execution_count": 156,
   "id": "e541ffd1",
   "metadata": {},
   "outputs": [],
   "source": [
    "Air = open(\"Airport.csv\", \"r\")\n",
    "loadAirFile = open(\"load-airports.sql\", \"w\")\n",
    "\n",
    "for line in Air.readlines()[1:]:\n",
    "    values = line.split(',')\n",
    "    myStr = \"INSERT INTO AIRPORTS values(\"\n",
    "    myStr = myStr + \"'\" + values[0] + \"','\" + values[1] + \"',\" + values[3] + \",\" + values[4] + \",\"\n",
    "    myStr = myStr + \"'\" + values[2] + \"',\" + values[7].replace(\"\\n\", \"\")\n",
    "    myStr = myStr + (\");\\n\")\n",
    "    loadAirFile.write(myStr)\n",
    "\n",
    "loadAirFile.close()\n",
    "Air.close()"
   ]
  }
 ],
 "metadata": {
  "kernelspec": {
   "display_name": "Python 3",
   "language": "python",
   "name": "python3"
  },
  "language_info": {
   "codemirror_mode": {
    "name": "ipython",
    "version": 3
   },
   "file_extension": ".py",
   "mimetype": "text/x-python",
   "name": "python",
   "nbconvert_exporter": "python",
   "pygments_lexer": "ipython3",
   "version": "3.8.8"
  }
 },
 "nbformat": 4,
 "nbformat_minor": 5
}
