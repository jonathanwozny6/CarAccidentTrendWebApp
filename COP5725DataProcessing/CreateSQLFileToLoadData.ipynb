{
 "cells": [
  {
   "cell_type": "markdown",
   "id": "b482e4b0",
   "metadata": {},
   "source": [
    "# Accidents"
   ]
  },
  {
   "cell_type": "code",
   "execution_count": 85,
   "id": "17a1b182",
   "metadata": {},
   "outputs": [],
   "source": [
    "Acc = open(\"Accident-1.csv\", \"r\")\n",
    "loadAccFile = open(\"load-accidents.sql\", \"w\")\n",
    "\n",
    "loadAccFile.write(\"ALTER SESSION SET NLS_DATE_FORMAT = 'yyyy/mm/dd hh:mi:ss';\\n\")\n",
    "\n",
    "# for value[5] might need to write TO_DATE('1994/12/16 12:00:00', 'yyyy/mm/dd hh:mi:ss') [did not include TO_DATE before]\n",
    "\n",
    "for line in Acc.readlines()[1:]:\n",
    "    values = line.split(',')\n",
    "    myStr = \"INSERT INTO ACCIDENT values(\"\n",
    "    myStr = myStr + values[0] + \",\" + values[1] + \",\" + values[2] + \",\" + values[3] + \",\" + values[4] + \",\"\n",
    "    myStr = myStr + \"'\" + values[5] + \"',\" + values[9] + \",\" + values[10].replace('\\n','') + \",\"\n",
    "    myStr = myStr +  \"'\" + values[6] + \"',\" + values[7] + \",'\" + values[8] + \"'\"\n",
    "    myStr = myStr + (\");\\n\")\n",
    "    loadAccFile.write(myStr)\n",
    "\n",
    "loadAccFile.close()\n",
    "Acc.close() "
   ]
  },
  {
   "cell_type": "markdown",
   "id": "8538f868",
   "metadata": {},
   "source": [
    "# Environments"
   ]
  },
  {
   "cell_type": "code",
   "execution_count": 99,
   "id": "dba624da",
   "metadata": {},
   "outputs": [],
   "source": [
    "Env = open(\"Environment-1.csv\", \"r\")\n",
    "loadEnvFile = open(\"load-environments.sql\", \"w\")\n",
    "\n",
    "for line in Env.readlines()[1:]:\n",
    "    values = line.split(',')\n",
    "    myStr = \"INSERT INTO ENVIRONMENT values(\"\n",
    "    myStr = myStr + values[0] + \",\" + values[1] + \",\" + values[2] + \",\" + values[3] + \",\" + values[4] + \",\"\n",
    "    myStr = myStr + \"'\" + values[5] + \"',\" + values[6] + \",\" + values[7] + \",\" + values[8] + \",\"\n",
    "    myStr = myStr + \"'\" + values[9].replace(\"\\n\", \"\") + \"'\"\n",
    "    myStr = myStr + (\");\\n\")\n",
    "    loadEnvFile.write(myStr)\n",
    "\n",
    "loadEnvFile.close()\n",
    "Env.close() "
   ]
  },
  {
   "cell_type": "markdown",
   "id": "279d31c1",
   "metadata": {},
   "source": [
    "# Roads"
   ]
  },
  {
   "cell_type": "code",
   "execution_count": 103,
   "id": "7d63400b",
   "metadata": {},
   "outputs": [],
   "source": [
    "Road = open(\"Road.csv\", \"r\")\n",
    "loadRoadFile = open(\"load-roads.sql\", \"w\")\n",
    "\n",
    "for line in Road.readlines()[1:]:\n",
    "    values = line.split(',')\n",
    "    myStr = \"INSERT INTO ROAD values(\"\n",
    "    myStr = myStr + \"'\" + values[0] + \"',\" + values[1] + \",\" + values[2] + \",'\" + values[3] + \"',\"\n",
    "    myStr = myStr + values[4].replace(\"\\n\", \"\")\n",
    "    myStr = myStr + (\");\\n\")\n",
    "    loadRoadFile.write(myStr)\n",
    "\n",
    "loadRoadFile.close()\n",
    "Road.close()"
   ]
  },
  {
   "cell_type": "markdown",
   "id": "781c93b7",
   "metadata": {},
   "source": [
    "# Locations"
   ]
  },
  {
   "cell_type": "code",
   "execution_count": 115,
   "id": "b840baf6",
   "metadata": {},
   "outputs": [],
   "source": [
    "Loc = open(\"Location.csv\", \"r\")\n",
    "loadLocFile = open(\"load-locations.sql\", \"w\")\n",
    "\n",
    "for line in Loc.readlines()[1:]:\n",
    "    values = line.split(',')\n",
    "    myStr = \"INSERT INTO LOCATION values(\"\n",
    "    myStr = myStr + values[0] + \",'\" + values[1] + \"','\" + values[2].replace(\"\\n\", \"\") + \"'\" \n",
    "    myStr = myStr + (\");\\n\")\n",
    "    loadLocFile.write(myStr)\n",
    "\n",
    "loadLocFile.close()\n",
    "Loc.close()"
   ]
  },
  {
   "cell_type": "markdown",
   "id": "47e28db2",
   "metadata": {},
   "source": [
    "# Airports"
   ]
  },
  {
   "cell_type": "code",
   "execution_count": 114,
   "id": "e541ffd1",
   "metadata": {},
   "outputs": [],
   "source": [
    "Air = open(\"Airport.csv\", \"r\")\n",
    "loadAirFile = open(\"load-airports.sql\", \"w\")\n",
    "\n",
    "for line in Air.readlines()[1:]:\n",
    "    values = line.split(',')\n",
    "    myStr = \"INSERT INTO AIRPORTS values(\"\n",
    "    myStr = myStr + \"'\" + values[0] + \"','\" + values[1] + \"',\" + values[3] + \",\" + values[4] + \",\"\n",
    "    myStr = myStr + \"'\" + values[2] + \"',\" + values[7]\n",
    "    myStr = myStr + (\");\\n\")\n",
    "    loadAirFile.write(myStr)\n",
    "\n",
    "loadAirFile.close()\n",
    "Air.close()"
   ]
  },
  {
   "cell_type": "code",
   "execution_count": null,
   "id": "cc6a386e",
   "metadata": {},
   "outputs": [],
   "source": []
  }
 ],
 "metadata": {
  "kernelspec": {
   "display_name": "Python 3",
   "language": "python",
   "name": "python3"
  },
  "language_info": {
   "codemirror_mode": {
    "name": "ipython",
    "version": 3
   },
   "file_extension": ".py",
   "mimetype": "text/x-python",
   "name": "python",
   "nbconvert_exporter": "python",
   "pygments_lexer": "ipython3",
   "version": "3.8.8"
  }
 },
 "nbformat": 4,
 "nbformat_minor": 5
}
